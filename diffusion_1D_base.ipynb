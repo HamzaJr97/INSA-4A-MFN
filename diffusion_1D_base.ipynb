{
 "cells": [
  {
   "cell_type": "markdown",
   "metadata": {
    "ein.tags": [
     "worksheet-0"
    ]
   },
   "source": [
    "# Résolution du problème de diffusion pure en 1D\n",
    "##### Mécanique des fluides numériques II  - INSA (4A-MFE)\n",
    "#### Séance de Travaux Pratiques: TP 1\n",
    "\n",
    "\n",
    "Prenom1 NOM1\n",
    "\n",
    "Prenom2 NOM2\n",
    "\n",
    "Groupe n°"
   ]
  },
  {
   "cell_type": "markdown",
   "metadata": {
    "ein.tags": [
     "worksheet-0"
    ]
   },
   "source": [
    "### Remarques: \n",
    "\n",
    "> **Ce document est un modèle pour vous aider à démarrer le TP.**\n",
    ">\n",
    "> **En l'état, il ne peut constituer un rapport de TP.**\n",
    "\n",
    "> Il faut absolument l'enrichir en décrivant:\n",
    "* la problématique physique\n",
    "* la détermination des conditions initiales et aux limites\n",
    "* la discrétisation du problème continu\n",
    "* l'étude de la stabilité des schémas numériques\n",
    "* l'implémentation numérique du code\n",
    "* l'analyse de la phyisque et la critique des résultats\n",
    "\n",
    "> Ce document vous aidera aussi à démarer la programation en fournissant une ossature du code qu'il faudra completer et qui vous permettar d'établir les blocs de votre fonction. Sauf mention contraire, un point d'intérogation est le signe qu'il faut completer la synatxe de la commande.\n",
    "\n",
    "> Concentrez-vous dans un premier temps sur les développements informatiques. La rédaction du rapport de TP sera faite ultérieurement. Les indications sont là pour vous montrer comment on peut, par exemple, structurer le compte-rendu de TP."
   ]
  },
  {
   "cell_type": "markdown",
   "metadata": {
    "ein.tags": [
     "worksheet-0"
    ]
   },
   "source": [
    "## 1. Description et écriture du problème\n",
    "Faire ici la description de la phyisque du problème à traiter afin de montrer que l'on cherche à calculer la solution $c(x,t)$ du problème de diffusion pure suivant:\n",
    "\n",
    "$$\\frac{\\partial c}{\\partial t}(x,t)=k\\frac{\\partial^2 c}{\\partial x^2}(x,t)$$\n",
    "\n",
    "> A continuer et enrichir: conditions aux limites, condition initiale, schéma du domaine de calcul, discrétisation du problème, étude de stabilité, etc ..."
   ]
  },
  {
   "cell_type": "markdown",
   "metadata": {
    "ein.tags": [
     "worksheet-0"
    ]
   },
   "source": [
    "## 2. Résolution numérique du problème: quelques éléments avant de créer la fonction"
   ]
  },
  {
   "cell_type": "markdown",
   "metadata": {
    "ein.tags": [
     "worksheet-0"
    ]
   },
   "source": [
    "### Chargement des modules de l'environnement de travail"
   ]
  },
  {
   "cell_type": "code",
   "execution_count": null,
   "metadata": {
    "autoscroll": "json-false",
    "ein.tags": [
     "worksheet-0"
    ],
    "jupyter": {
     "outputs_hidden": false
    }
   },
   "outputs": [],
   "source": [
    "# L'environnement de travail pylab offre une syntaxe proche de Matlab et permet une prise en main rapide\n",
    "# nbagg est une option permet d'avoir des graphiques interactifs dans le notebook\n",
    "%pylab nbagg"
   ]
  },
  {
   "cell_type": "markdown",
   "metadata": {
    "ein.tags": [
     "worksheet-0"
    ]
   },
   "source": [
    "### Définition des différentes paramètres du problème"
   ]
  },
  {
   "cell_type": "code",
   "execution_count": null,
   "metadata": {
    "autoscroll": "json-false",
    "ein.tags": [
     "worksheet-0"
    ],
    "jupyter": {
     "outputs_hidden": false
    }
   },
   "outputs": [],
   "source": [
    "L = ? # Longueur du domaine\n",
    "Nx = ? # Nombre d'intervals suivant x\n",
    "dx = ? # Pas d'espace\n",
    "\n",
    "T = ? # Temps final que l'on veut atteindre dans la simulation\n",
    "dt = ? # Pas de temps\n",
    "Nt = ? # Nombre max d'itérations que l'utilisateur peut réaliser\n",
    "\n",
    "M0 = ? # Masse initialement injectée \n",
    "K = ? # Coefficient de diffusivité"
   ]
  },
  {
   "cell_type": "markdown",
   "metadata": {
    "ein.tags": [
     "worksheet-0"
    ]
   },
   "source": [
    "### Création du tableau $x$ contenant l'abscisse des noeuds du maillage\n",
    "\n",
    "Créer un tableau `x` qui contient l'abscisse des noeuds du maillage. \n",
    "\n",
    "Plusieurs techniques sont possibles ici:\n",
    "* avec une boucle `for i in range(,)` pour remplir les élements d'un tableau `x` initialisé à 0 avec la fonction `zero`\n",
    "* avec la fonction `linspace`\n",
    "* avec la fonction `arange`\n",
    "\n",
    "Esayez les trois pour faire les crocs !\n",
    "\n",
    "Pensez à utiliser l'aide intégrée  pour obtenir plus d'information sur la syntaxe: `help(zero)`,  `help(linspace)`,  `help(arange)`"
   ]
  },
  {
   "cell_type": "code",
   "execution_count": null,
   "metadata": {
    "autoscroll": "json-false",
    "ein.tags": [
     "worksheet-0"
    ],
    "jupyter": {
     "outputs_hidden": false
    }
   },
   "outputs": [],
   "source": [
    "x=zeros(?)\n",
    "for i in range(?,?):\n",
    "    x[?]=? \n",
    "\n",
    "# Variante 1\n",
    "# x=linspace(?,?,?)\n",
    "\n",
    "# Variante 2\n",
    "# x = arange(?,?,?)\n",
    "\n",
    "# Quelques vérifications utiles\n",
    "print(\"Le nombre de noeuds est: \", x.size)\n",
    "print(\"Les bornes du domaines sont:\")\n",
    "print(\" o min(x)= \", min(x))\n",
    "print(\" o max(x)= \", max(x))"
   ]
  },
  {
   "cell_type": "code",
   "execution_count": null,
   "metadata": {
    "autoscroll": "json-false",
    "ein.tags": [
     "worksheet-0"
    ],
    "jupyter": {
     "outputs_hidden": false
    }
   },
   "outputs": [],
   "source": [
    "# Figure représentant la distribution de l'abscisse des noeuds du maillage\n",
    "figure()\n",
    "plot(x,'o-',markevery=5)\n",
    "xlabel(\"Indice $i$ des moeuds du maillage\")\n",
    "ylabel(\"Abscisse $x(i)$ des noeuds\")\n",
    "grid()"
   ]
  },
  {
   "cell_type": "markdown",
   "metadata": {
    "ein.tags": [
     "worksheet-0"
    ]
   },
   "source": [
    "### Création du tableau temps $t$\n",
    "\n",
    "Créer un tableau `t` allant du temps $t(0)=0$ à $t(Nt)=Nt*dt$"
   ]
  },
  {
   "cell_type": "code",
   "execution_count": null,
   "metadata": {
    "autoscroll": "json-false",
    "ein.tags": [
     "worksheet-0"
    ],
    "jupyter": {
     "outputs_hidden": false
    }
   },
   "outputs": [],
   "source": [
    "t=zeros(?)\n",
    "for n in range(?,?):\n",
    "    t[?]=?\n",
    "\n",
    "# Variante\n",
    "# t=linspace(?,?,?)"
   ]
  },
  {
   "cell_type": "code",
   "execution_count": null,
   "metadata": {
    "autoscroll": "json-false",
    "ein.tags": [
     "worksheet-0"
    ],
    "jupyter": {
     "outputs_hidden": false
    }
   },
   "outputs": [],
   "source": [
    "figure()\n",
    "plot(t,'o-',markevery=100)\n",
    "xlabel(\"Indice $n$ des itérations en temps\")\n",
    "ylabel(\"Temps $t(n)$ [s]\")\n",
    "grid()"
   ]
  },
  {
   "cell_type": "markdown",
   "metadata": {
    "ein.tags": [
     "worksheet-0"
    ]
   },
   "source": [
    "### Création de la matrice $c\\simeq c(x,t)$"
   ]
  },
  {
   "cell_type": "markdown",
   "metadata": {
    "ein.tags": [
     "worksheet-0"
    ]
   },
   "source": [
    "Il est conseillé d'initialiser le champs calculé à 0 pour faciliter le debogage ultérieur.\n",
    "\n",
    "On initialise donc la matrice `c` contenant le champ de concentration à zéro"
   ]
  },
  {
   "cell_type": "code",
   "execution_count": null,
   "metadata": {
    "autoscroll": "json-false",
    "ein.tags": [
     "worksheet-0"
    ],
    "jupyter": {
     "outputs_hidden": false
    }
   },
   "outputs": [],
   "source": [
    "c=zeros((?,?))"
   ]
  },
  {
   "cell_type": "markdown",
   "metadata": {
    "ein.tags": [
     "worksheet-0"
    ]
   },
   "source": [
    "### Condition intiale\n",
    "On a montré précédement que la condition initiale est définit par:\n",
    "\n",
    "$$c(x,t=0) =\\left\\{\\begin{array}{ll}c_0  & \\mbox{si } x = 0 \\\\{0} & \\mbox{si } x \\neq 0\\end{array}\\right.$$\n",
    "\n",
    "\n",
    "avec ici $x_{i0}=0$ et $c_0=?$"
   ]
  },
  {
   "cell_type": "code",
   "execution_count": null,
   "metadata": {
    "autoscroll": "json-false",
    "ein.tags": [
     "worksheet-0"
    ],
    "jupyter": {
     "outputs_hidden": false
    }
   },
   "outputs": [],
   "source": [
    "# Condition initiale\n",
    "?"
   ]
  },
  {
   "cell_type": "markdown",
   "metadata": {
    "ein.tags": [
     "worksheet-0"
    ]
   },
   "source": [
    "La distribution de la concentration à $t=0s$ est donc:"
   ]
  },
  {
   "cell_type": "code",
   "execution_count": null,
   "metadata": {
    "autoscroll": "json-false",
    "ein.tags": [
     "worksheet-0"
    ],
    "jupyter": {
     "outputs_hidden": false
    }
   },
   "outputs": [],
   "source": [
    "figure()\n",
    "plot(x,c[:,0])\n",
    "ylabel(\"Concentration $c(x,t=0)$\")\n",
    "xlabel(\"Abscisse $x(i)$ des noeuds\")\n",
    "title(\"Distribution initiale de la concentration $t=0s$\")\n",
    "grid()"
   ]
  },
  {
   "cell_type": "markdown",
   "metadata": {
    "ein.tags": [
     "worksheet-0"
    ]
   },
   "source": [
    "### Schéma numérique: algorithme principal"
   ]
  },
  {
   "cell_type": "markdown",
   "metadata": {
    "ein.tags": [
     "worksheet-0"
    ]
   },
   "source": [
    "On a montré précédement que la concentration $c(x_i,t_n)\\simeq c_i^n$ est approchée par le schéma explicite suivant:\n",
    "$$c_i^{n+1}=c_i^n+K \\frac{\\Delta t}{\\Delta x^2} (c_{i+1}^n -2c_{i}^n + c_{i-1}^n) $$\n",
    "\n",
    "Ce schéma est valide pour $i=?,\\dots,?$\n",
    "\n",
    "On y ajoute les conditions aux limites discrètes suivantes:\n",
    "\n",
    "* $c_0^{n+1}= ?$\n",
    "* $c_{N_x}^{n+1}= ?$\n"
   ]
  },
  {
   "cell_type": "code",
   "execution_count": null,
   "metadata": {
    "autoscroll": "json-false",
    "ein.tags": [
     "worksheet-0"
    ],
    "jupyter": {
     "outputs_hidden": false
    }
   },
   "outputs": [],
   "source": [
    "# Application du schéma numérique pour le calcul de la solution\n",
    "# L'algorithme est appliqué à chaque itération n\n",
    "for n in range(?,?): # On boucle sur les itérations\n",
    "    for i in range(?,?): # On balaye chaque noeud du domaine interieur\n",
    "        ?\n",
    "    # Application des conditions aux limites à chaque itération en temps\n",
    "    ?"
   ]
  },
  {
   "cell_type": "markdown",
   "metadata": {
    "ein.tags": [
     "worksheet-0"
    ]
   },
   "source": [
    "## 3. Fonction résolvant le problème\n",
    "\n",
    "Afin de rendre le code plus modulaire servez-vous des développements précédents pour écrire une fonction `diffusion1_D` qui résout le problème dans sa globalité."
   ]
  },
  {
   "cell_type": "code",
   "execution_count": null,
   "metadata": {
    "autoscroll": "json-false",
    "ein.tags": [
     "worksheet-0"
    ],
    "jupyter": {
     "outputs_hidden": false
    }
   },
   "outputs": [],
   "source": [
    "def diffusion1_D(L1,L2,Nx,x0,M0,K,dt,T):\n",
    "    \"\"\"Résout l'équation de diffusion pure 1D suivante:\n",
    "       \n",
    "       $$\\frac{\\partial c}{\\partial t}(x,t)=k\\frac{\\partial^2 c}{\\partial x^2}(x,t)$$\n",
    "       \n",
    "       avec un schéma centré en espace à l'ordre 2 et amont en temps à l'ordre 1\n",
    "       \n",
    "       où la solution $c(x,t)$ représente la concentration d'un polluant\n",
    "\n",
    "       @L1 et@L2 sont respectivement les bornes inférieures et supérieures du domaine\n",
    "       @Nx est le nombre d'intervalles de discrétsiation\n",
    "       @x0 est la position où le polluant est injecté\n",
    "       @M0 est la masse de polluant intialement injecté dans le domaine\n",
    "       @K est la diffusivité du pollant\n",
    "       @dt est le pas de temps\n",
    "       @T est le temps final à atteindre\n",
    "       \"\"\"\n",
    "    \n",
    "    # Definition du maillage du domaine de calcul 1D\n",
    "    \n",
    "    # Calcul du nombre de pas de temps Nt pour atteindre le temps T\n",
    "    \n",
    "    # Mise à 0 de la matrce c\n",
    "    \n",
    "    # Condition initiale\n",
    "    \n",
    "    # Application du schéma numérique pour le calcul de la solution\n",
    "    \n",
    "    # On retourne les tableaux ?,? et la matrice c comme résultats\n",
    "    return ?,?,c"
   ]
  },
  {
   "cell_type": "code",
   "execution_count": null,
   "metadata": {
    "autoscroll": "json-false",
    "ein.tags": [
     "worksheet-0"
    ],
    "jupyter": {
     "outputs_hidden": false
    }
   },
   "outputs": [],
   "source": [
    "# Le champ de concentration est maintenant donné par la fonction diffusion1_D\n",
    "?,?,c = diffusion1_D(?)"
   ]
  },
  {
   "cell_type": "markdown",
   "metadata": {
    "ein.tags": [
     "worksheet-0"
    ]
   },
   "source": [
    "## 4. Analyse des résulats et discussion"
   ]
  },
  {
   "cell_type": "markdown",
   "metadata": {
    "ein.tags": [
     "worksheet-0"
    ]
   },
   "source": [
    "### Vérifier que le schéma est conditionnellement stable\n",
    "Comparer la solution obtenue avec différents pas de temps $\\Delta t$ et verifier le comportement instable de la solution numérique au delà d'une certaine valeur critique du pas de temps que vous préciserez."
   ]
  },
  {
   "cell_type": "markdown",
   "metadata": {
    "ein.tags": [
     "worksheet-0"
    ]
   },
   "source": [
    "### Analyse du mécanisme de diffusion\n",
    "Tracer sur un même graphique les profils de la concentration $c\\left(x,t\\right)$:\n",
    "* à différents instants, par example $t=5\\mathtt{s}$, $t=10\\mathtt{s}$, $t=15\\mathtt{s}$\n",
    "* pour différentes valeur de la diffusivité $K$."
   ]
  },
  {
   "cell_type": "markdown",
   "metadata": {
    "ein.tags": [
     "worksheet-0"
    ]
   },
   "source": [
    "### Validation avec la solution analytique\n",
    "Pour valider la solution comparer pour différents instants la solution numérique obtenue avec la solution analytique \n",
    "$c_a\\left(x,t\\right)$ du problème:\n",
    "\n",
    "$$c_a\\left(x,t\\right)=\\frac{M_{0}}{2\\sqrt{\\pi Kt}}\\exp\\left(-\\frac{x^{2}}{4Kt}\\right)$$"
   ]
  },
  {
   "cell_type": "code",
   "execution_count": null,
   "metadata": {
    "autoscroll": "json-false",
    "ein.tags": [
     "worksheet-0"
    ],
    "jupyter": {
     "outputs_hidden": false
    }
   },
   "outputs": [],
   "source": [
    "#  Tracer sur une même figure la concentration $c(x,t)$ et $c_a(x,t)$\n",
    "?"
   ]
  },
  {
   "cell_type": "markdown",
   "metadata": {
    "ein.tags": [
     "worksheet-0"
    ]
   },
   "source": [
    "### Vérification de la conservation de la masse\n",
    "\n",
    "L'air sous la courbe est calculée par la formule des trapèzes:\n",
    "$$\n",
    "\\int_{a}^{b} f(x)\\, dx \\approx  \\sum_{i=1}^{N} \\dots\n",
    "$$"
   ]
  },
  {
   "cell_type": "code",
   "execution_count": null,
   "metadata": {
    "autoscroll": "json-false",
    "ein.tags": [
     "worksheet-0"
    ],
    "jupyter": {
     "outputs_hidden": false
    }
   },
   "outputs": [],
   "source": [
    "# Calculer de la masse au temps t(Nt)\n",
    "?\n",
    "print (\"L'approximation de l'intégrale par la méthode des trapèzes donne\", ?)"
   ]
  },
  {
   "cell_type": "code",
   "execution_count": null,
   "metadata": {
    "autoscroll": "json-false",
    "ein.tags": [
     "worksheet-0"
    ],
    "jupyter": {
     "outputs_hidden": false
    }
   },
   "outputs": [],
   "source": [
    "# Variante en utilisant directement la fonction `trapz` du module `scipy.integrate`\n",
    "from scipy.integrate import trapz\n",
    "help(trapz)\n",
    "?\n",
    "print (\"L'approximation de l'intégrale par la méthode des trapèzes donne\", ?)"
   ]
  },
  {
   "cell_type": "markdown",
   "metadata": {
    "ein.tags": [
     "worksheet-0"
    ]
   },
   "source": [
    "### Animation de la solution dans le temps\n",
    "\n",
    "Il est possible de réaliser une animation de la solution au cours du temps directement dans le notebook. On utlisera ici le module `JSAnimation` fournit à cette effet."
   ]
  },
  {
   "cell_type": "code",
   "execution_count": null,
   "metadata": {
    "autoscroll": "json-false",
    "ein.tags": [
     "worksheet-0"
    ],
    "jupyter": {
     "outputs_hidden": false
    }
   },
   "outputs": [],
   "source": [
    "%%capture \n",
    "# Permet de capturer la sortie sans l'afficher. \n",
    "# Utile quand on ne veut pas montrer des graphiques \"intermédiaires\" \n",
    "# comme c'est le cas ici.\n",
    "\n",
    "from matplotlib import animation, rc\n",
    "rc('animation', html='jshtml') # Pour avoir accès aux animations\n",
    "\n",
    "# Paramètres de la figure\n",
    "figure()\n",
    "line, = plot(x[:],c[:,0],'b-',linewidth=2)\n",
    "ylabel(\"Concentration $c(x,t)$\")\n",
    "xlabel(\"Abscisse $x(i)$ des noeuds\")\n",
    "grid()\n",
    "\n",
    "ax =gca()\n",
    "fig = gcf()\n",
    "\n",
    "# Positions des objets texte qui seront affichés dans l'animation\n",
    "temps_text = text(0.05, 0.90, '', transform=ax.transAxes)\n",
    "masse_text = text(0.05, 0.85, '', transform=ax.transAxes)\n",
    "\n",
    "# Fonction qui définit l'animation\n",
    "def animate(n):\n",
    "    masse = trapz(c[:,n], x)\n",
    "    line.set_data(x, c[:,n])\n",
    "    # Pour activer l'autoscale décommenter les 2 lignes ci-dessous\n",
    "    # ax.relim()\n",
    "    # ax.autoscale()\n",
    "    temps_text.set_text('Temps = %.2f (s)' % (n*dt))\n",
    "    masse_text.set_text('Masse = %.3f (kg)' % masse)\n",
    "    return line, temps_text, masse_text\n",
    "\n",
    "\n",
    "anim = animation.FuncAnimation(fig, animate)\n",
    "\n",
    "# Pour enregistrer l'animation dans un fichier décommenter la ligne ci-dessous\n",
    "# anim.save('diffusion.mp4')\n"
   ]
  },
  {
   "cell_type": "code",
   "execution_count": null,
   "metadata": {
    "autoscroll": "json-false",
    "ein.tags": [
     "worksheet-0"
    ],
    "jupyter": {
     "outputs_hidden": false
    }
   },
   "outputs": [],
   "source": [
    "# Affichage de l'animation dans le notebook\n",
    "anim"
   ]
  }
 ],
 "metadata": {
  "kernelspec": {
   "display_name": "Python 3",
   "language": "python",
   "name": "python3"
  },
  "language_info": {
   "codemirror_mode": {
    "name": "ipython",
    "version": 3
   },
   "file_extension": ".py",
   "mimetype": "text/x-python",
   "name": "python",
   "nbconvert_exporter": "python",
   "pygments_lexer": "ipython3",
   "version": "3.7.6"
  },
  "name": "diffusion_1D_base.ipynb"
 },
 "nbformat": 4,
 "nbformat_minor": 4
}
