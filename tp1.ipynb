{
 "cells": [
  {
   "cell_type": "markdown",
   "metadata": {},
   "source": [
    "# TP 1: Problème de diffusion pure\n",
    "##### Mécanique des fludies numériques II  - INSA (4A-MFE)\n",
    "#### Séance de Travaux Pratiques\n",
    "[@François Beaubert](mailto:francois.beaubert@univ-valkenciennes.fr)"
   ]
  },
  {
   "cell_type": "markdown",
   "metadata": {},
   "source": [
    ">Le but de ce TP est de modéliser un problème de diffusion pure en résolvant l'équation aux dérivées partilles correspondante par la méthode des différences finies. "
   ]
  },
  {
   "cell_type": "code",
   "execution_count": 1,
   "metadata": {},
   "outputs": [
    {
     "data": {
      "image/jpeg": "[encoded data removed]",
      "text/html": [
       "\n",
       "        <iframe\n",
       "            width=\"400\"\n",
       "            height=\"300\"\n",
       "            src=\"https://www.youtube.com/embed/fDupQigzwRA\"\n",
       "            frameborder=\"0\"\n",
       "            allowfullscreen\n",
       "        ></iframe>\n",
       "        "
      ],
      "text/plain": [
       "<IPython.lib.display.YouTubeVideo at 0x7f34dc0b1390>"
      ]
     },
     "execution_count": 1,
     "metadata": {},
     "output_type": "execute_result"
    }
   ],
   "source": [
    "from IPython.display import YouTubeVideo\n",
    "YouTubeVideo('fDupQigzwRA')"
   ]
  },
  {
   "cell_type": "markdown",
   "metadata": {},
   "source": [
    "# 1. Description du problème\n",
    "***\n",
    "\n",
    "Il s’agit ici de modéliser le problème de diffusion d’un polluant\n",
    "injecté dans un tube de longueur $L$ et de diamètre $D=2R$. Ce tube est\n",
    "fermé à ses deux extrémités. La masse $M_{0}$ injectée est initialement\n",
    "concentrée au milieu du tube au point d’abscisse $x=0$. La configuration du problème est schématisée sur la figure suivante:\n",
    "\n",
    "<img src=\"./tube.png\">\n",
    "\n",
    "Pour simplifier le problème, on suppose ici que le diamètre $D$ du tube\n",
    "est très petit devant sa longueur $L$. On peut ainsi se ramener à un\n",
    "problème de diffusion $1D$ où la diffusion de la concentration est régie\n",
    "par l’équation parabolique suivante:\n",
    "\n",
    "$$\\frac{\\partial c}{\\partial t}\\left(x,t\\right)=K\\frac{\\partial^{2}c}{\\partial x^{2}}\\left(x,t\\right)$$\n",
    "\n",
    "où $K$est la diffusivité, $c\\left(x,t\\right)$ est la concentration.\n",
    "\n",
    "On prendra comme valeurs numériques: $M_{0}=1\\;\\mathtt{kg}$,\n",
    "$L=2\\mathtt{\\; m}$ et $K=10^{-3}\\;\\mathtt{m^{2}.s^{-1}}$\n",
    "\n",
    "Le domaine de calcul 1D $\\left[-L/2;L/2\\right]$ est discrétisé avec un\n",
    "maillage régulier comportant $N_{x}+1$ noeuds, l’abscisse du\n",
    "$i^{\\grave{e}me}$ noeud de discrétisation étant notée $x\\left(i\\right)$\n",
    "pour $i=0,1,\\dots,N_{x}$.\n",
    "Vous pourez prendre $N_x=100$."
   ]
  },
  {
   "cell_type": "markdown",
   "metadata": {},
   "source": [
    "# 2. Écrire l’équation aux différences finies\n",
    "\n",
    "En utilisant les développements en série de Taylor, écrire l’équation\n",
    "aux différences finies correspondant au problème continu en approchant\n",
    "les dérivées partielles au point $x_{i}$ et au temps $t_{n}$.\n",
    "\n",
    "1.  Le schéma en temps sera établi avec une *différence avant à l’ordre\n",
    "    1*\n",
    "\n",
    "2.  Le schéma spatial sera établi à l’aide d’une *différence centrée à\n",
    "    l’ordre 2*\n",
    "\n",
    "3.  Comment s’appelle ce type de schéma numérique?"
   ]
  },
  {
   "cell_type": "markdown",
   "metadata": {},
   "source": [
    "# 3. Écrire les conditions initiales et aux limites du problème discret\n",
    "\n",
    "\n",
    "### Condition initiale:\n",
    "* La masse $M_{0}$ du polluant est initialement injectée au milieu du tube au point d’abscisse $x=0$. \n",
    "* Calculer alors la concentration initiale $c_{0}$. \n",
    "    \n",
    "### Conditions aux limites:\n",
    "1.  Le tube est fermé à ces deux extrémités, en déduire les conditions aux limites adéquates en $x=\\pm L/2$\n",
    "2.  Comment s’appelle ce type de condition aux limites ?"
   ]
  },
  {
   "cell_type": "markdown",
   "metadata": {},
   "source": [
    "# 4. Stabilité du schéma numérique\n",
    "\n",
    "L’étude de la stabilité du schéma numérique consiste à regarder si ce schéma amplifie ou atténue les erreurs d’arrondis. \n",
    "\n",
    "On étudie ici la stabilité du schéma numérique en utilisant la méthode de Von Neumann.On injecte pour cela une perturbation dans le modèle numérique et on suit\n",
    "l’évolution de son module entre deux pas de temps successifs. La\n",
    "perturbation est de la forme:\n",
    "\n",
    "$$p\\left(x_{i},t^{n}\\right)=A\\left(t^{n}\\right)e^{Ikx_{i}}$$\n",
    "\n",
    "Montrer que ce schéma explicite est conditionnellement stable."
   ]
  },
  {
   "cell_type": "markdown",
   "metadata": {},
   "source": [
    "# 5. Résolution numérique du problème\n",
    "\n",
    "1.  Écrire un programme en `Python 3` qui permet de résoudre le problème. \n",
    "\n",
    "    Afin de rendre le code plus modulaire servez-vous des développements précédents pour écrire une fonction `diffusion_1D` qui résout le problème dans sa globalité et qui renvoie le champ de concentration.\n",
    "\n",
    "    Enregistrer votre travail dans un `ipython/jupyter notebook`\n",
    "\n",
    "    1.  Utiliser la base du notebook (`diffusion_1D_base.ipynb`) fourni à cet effet.\n",
    "        Prenez le temps de lire les commentaires dans le notebook et le programme, ils vous seront très utiles !\n",
    "\n",
    "    2.  Fixer les paramètres physiques et géométriques du problème et identifier les paramètres dont va avoir besoin votre fonction.\n",
    "\n",
    "    3.  Votre fonction doit déterminer le maillage du domaine de calcul:\n",
    "\n",
    "        1.  Calculer le pas d’espace $\\Delta x$ pour $N_{x}+1$ points\n",
    "\n",
    "        2.  Exprimer alors la valeur de $x\\left(i\\right)$ pour\n",
    "            $i=0,N_{x}$\n",
    "\n",
    "        3.  Pour débuger votre programme, vous pouvez afficher à l’écran pour un $i$ donné la valeur\n",
    "            $x\\left(i\\right)$\n",
    "\n",
    "    4.  De la même manière votre fonction doit calculer le tableau qui contient le temps discret\n",
    "\n",
    "    5.  Votre fonction doit implémenter la condition initiale\n",
    "\n",
    "    6.  Elle doit implémenter le schéma numérique et les conditions aux limites\n",
    "    \n",
    "    7. Votre fonction devra renvoyer toutes informations qui vous semblent utiles pour l'analyse des données\n",
    "\n",
    "2.  Vérifier que le schéma est conditionnellement stable en comparant la\n",
    "    solution obtenue avec différents pas de temps.\n",
    "\n",
    "3.  Lancer un calcul jusu'à 8 s et tracer sur un même graphique les profils de la concentration\n",
    "    $c\\left(x,t\\right)$:\n",
    "\n",
    "    1.  aux instants $t=2\\mathtt{s}$, $t=4\\mathtt{s}$, $t=8\\mathtt{s}$\n",
    "\n",
    "    2.  multiplier la diffusivité par 2 et répéter la même opération.\n",
    "\n",
    "    3.  commenter les courbes.\n",
    "\n",
    "4.  Pour valider la solution comparer pour différents instants la\n",
    "    solution numérique obtenue avec la solution analytique\n",
    "    $ca\\left(x,t\\right)$ du problème:\n",
    "\n",
    "    $$ca\\left(x,t\\right)=\\frac{M_{0}}{2\\sqrt{\\pi Kt}}\\exp\\left(-\\frac{x^{2}}{4Kt}\\right)$$\n",
    "\n",
    "5.  Le système étudié est fermé, il n’y a pas de flux de colorant vers\n",
    "    l’extérieur: la masse du scalaire est donc conservée au cours du\n",
    "    temps.\n",
    "    Vérifier cela numériquement en utilisant une intégration par la\n",
    "    méthode des trapèzes."
   ]
  },
  {
   "cell_type": "code",
   "execution_count": null,
   "metadata": {},
   "outputs": [],
   "source": []
  }
 ],
 "metadata": {
  "kernelspec": {
   "display_name": "Python 3",
   "language": "python",
   "name": "python3"
  },
  "language_info": {
   "codemirror_mode": {
    "name": "ipython",
    "version": 3
   },
   "file_extension": ".py",
   "mimetype": "text/x-python",
   "name": "python",
   "nbconvert_exporter": "python",
   "pygments_lexer": "ipython3",
   "version": "3.7.6"
  }
 },
 "nbformat": 4,
 "nbformat_minor": 4
}
